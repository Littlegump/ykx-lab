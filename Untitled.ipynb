{
 "cells": [
  {
   "cell_type": "code",
   "execution_count": 3,
   "id": "f8ecaa03-5349-40a6-9ec6-869686b06d6e",
   "metadata": {},
   "outputs": [],
   "source": [
    "import system_monitor"
   ]
  },
  {
   "cell_type": "code",
   "execution_count": 4,
   "id": "a771d2d8-1e45-41e9-b245-1a2f2f660597",
   "metadata": {},
   "outputs": [
    {
     "data": {
      "text/plain": [
       "['SystemMonitor',\n",
       " '__builtins__',\n",
       " '__cached__',\n",
       " '__doc__',\n",
       " '__file__',\n",
       " '__loader__',\n",
       " '__name__',\n",
       " '__package__',\n",
       " '__path__',\n",
       " '__spec__',\n",
       " 'module',\n",
       " 'my_function']"
      ]
     },
     "execution_count": 4,
     "metadata": {},
     "output_type": "execute_result"
    }
   ],
   "source": [
    "dir(system_monitor)"
   ]
  },
  {
   "cell_type": "code",
   "execution_count": 5,
   "id": "a0700dce-74f7-43a5-b92a-88646f36b63b",
   "metadata": {},
   "outputs": [],
   "source": [
    "sys = system_monitor.SystemMonitor()\n"
   ]
  },
  {
   "cell_type": "code",
   "execution_count": 6,
   "id": "b1665249-c2d5-4ae0-82e3-284c441af25a",
   "metadata": {},
   "outputs": [
    {
     "data": {
      "text/plain": [
       "['__class__',\n",
       " '__delattr__',\n",
       " '__dict__',\n",
       " '__dir__',\n",
       " '__doc__',\n",
       " '__eq__',\n",
       " '__format__',\n",
       " '__ge__',\n",
       " '__getattribute__',\n",
       " '__getstate__',\n",
       " '__gt__',\n",
       " '__hash__',\n",
       " '__init__',\n",
       " '__init_subclass__',\n",
       " '__le__',\n",
       " '__lt__',\n",
       " '__module__',\n",
       " '__ne__',\n",
       " '__new__',\n",
       " '__reduce__',\n",
       " '__reduce_ex__',\n",
       " '__repr__',\n",
       " '__setattr__',\n",
       " '__sizeof__',\n",
       " '__str__',\n",
       " '__subclasshook__',\n",
       " '__weakref__',\n",
       " 'cpu_count',\n",
       " 'get_cpu_usage',\n",
       " 'get_mem_usage']"
      ]
     },
     "execution_count": 6,
     "metadata": {},
     "output_type": "execute_result"
    }
   ],
   "source": [
    "dir(sys)\n"
   ]
  },
  {
   "cell_type": "code",
   "execution_count": null,
   "id": "6809f091-9f6c-4a6a-b14f-40c2c1392cea",
   "metadata": {},
   "outputs": [],
   "source": [
    "get system_monitor/"
   ]
  }
 ],
 "metadata": {
  "kernelspec": {
   "display_name": "Python 3 (ipykernel)",
   "language": "python",
   "name": "python3"
  },
  "language_info": {
   "codemirror_mode": {
    "name": "ipython",
    "version": 3
   },
   "file_extension": ".py",
   "mimetype": "text/x-python",
   "name": "python",
   "nbconvert_exporter": "python",
   "pygments_lexer": "ipython3",
   "version": "3.11.11"
  }
 },
 "nbformat": 4,
 "nbformat_minor": 5
}
